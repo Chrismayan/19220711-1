{
 "cells": [
  {
   "cell_type": "markdown",
   "metadata": {},
   "source": [
    "# 棋子检测"
   ]
  },
  {
   "cell_type": "code",
   "execution_count": 1,
   "metadata": {},
   "outputs": [
    {
     "name": "stdout",
     "output_type": "stream",
     "text": [
      "WARNING:tensorflow:From D:\\anaconda3\\lib\\site-packages\\tensorflow\\python\\compat\\v2_compat.py:96: disable_resource_variables (from tensorflow.python.ops.variable_scope) is deprecated and will be removed in a future version.\n",
      "Instructions for updating:\n",
      "non-resource variables are not supported in the long term\n"
     ]
    }
   ],
   "source": [
    "import numpy as np\n",
    "import tensorflow.compat.v1 as tf\n",
    "tf.disable_v2_behavior()"
   ]
  },
  {
   "cell_type": "code",
   "execution_count": 2,
   "metadata": {},
   "outputs": [],
   "source": [
    "from PIL import Image\n",
    "import matplotlib.pyplot as plt\n",
    "%matplotlib inline"
   ]
  },
  {
   "cell_type": "markdown",
   "metadata": {},
   "source": [
    "定义训练、测试数据集路径    模型的保存路径"
   ]
  },
  {
   "cell_type": "code",
   "execution_count": 3,
   "metadata": {},
   "outputs": [],
   "source": [
    "train_path = \"C:/Users/王欣哲/Desktop/codes/人工智能基础/问题1 棋盘识别/pic_DB/train\"\n",
    "test_path = \"C:/Users/王欣哲/Desktop/codes/人工智能基础/问题1 棋盘识别/pic_DB/test\""
   ]
  },
  {
   "cell_type": "markdown",
   "metadata": {},
   "source": [
    "定义执行器，使用GPU运算"
   ]
  },
  {
   "cell_type": "code",
   "execution_count": 4,
   "metadata": {},
   "outputs": [],
   "source": [
    "gpu_options = tf.GPUOptions(allow_growth=True)\n",
    "gpu_options =tf.GPUOptions(per_process_gpu_memory_fraction=0.8,allow_growth=True) ##每个gpu占用0.8\t\t\t\t\t\t\t\t\t\t\t\t\t\t\t\t\t\t\t\t的显存\n",
    "config=tf.ConfigProto(gpu_options=gpu_options,allow_soft_placement=True,log_device_placement=False)\n",
    "sess=tf.Session(config=config)##如果电脑有多个GPU，tensorflow默认全部使用。如果想只使用部分GPU，可以设置CUDA_VISIBLE_DEVICES。"
   ]
  },
  {
   "cell_type": "markdown",
   "metadata": {},
   "source": [
    "加载训练集、测试集标签 定义图片加载函数"
   ]
  },
  {
   "cell_type": "code",
   "execution_count": 5,
   "metadata": {},
   "outputs": [],
   "source": [
    "# 加载 训练集 标签\n",
    "with open(train_path + \"/label.csv\") as f:\n",
    "    train_label = np.loadtxt(f,delimiter=',') \n",
    "# 加载 测试集 标签\n",
    "with open(test_path + \"/label.csv\") as f:\n",
    "    test_label = np.loadtxt(f,delimiter=',') "
   ]
  },
  {
   "cell_type": "code",
   "execution_count": 6,
   "metadata": {},
   "outputs": [],
   "source": [
    "def get_train_batch(batch_size):\n",
    "    \"\"\"获取训练的batch\"\"\"\n",
    "    idx = np.random.randint(1,len(train_label),size=batch_size)# 要抽取的图片数\n",
    "    # 加载图片\n",
    "    _label = np.zeros([batch_size,225,3],dtype = np.float32)\n",
    "    _img = []\n",
    "    for i in range(0,batch_size):\n",
    "        for j in range(0,225):\n",
    "            _label[i,j,int(train_label[idx[i],j])] = 0.99\n",
    "        data_img= Image.open(train_path + \"/\" +str(idx[i])+\".jpg\")\n",
    "        #图片\n",
    "        _img.append((np.array(data_img)/255.0*0.99+0.01).reshape(96*96))\n",
    "    _img = np.asfarray(_img)\n",
    "    return _img,_label\n",
    "\n",
    "def get_test_batch(batch_size):\n",
    "    \"\"\"获取训练的batch\"\"\"\n",
    "    idx = np.random.randint(1,len(test_label),size=batch_size)# 要抽取的图片数\n",
    "    # 加载图片\n",
    "    _label = np.zeros([batch_size,225,3],dtype = np.float32)\n",
    "    _img = []\n",
    "    for i in range(0,batch_size):\n",
    "        for j in range(0,225):\n",
    "            _label[i,j,int(test_label[idx[i],j])] = 0.99\n",
    "        data_img= Image.open(test_path + \"/\" +str(idx[i])+\".jpg\")\n",
    "        #图片\n",
    "        _img.append((np.array(data_img)/255.0*0.99+0.01).reshape(96*96))\n",
    "    _img = np.asfarray(_img)\n",
    "    return _img,_label"
   ]
  },
  {
   "cell_type": "markdown",
   "metadata": {},
   "source": [
    "##### 定义卷积函数、神经网络\n",
    "此处定义了两个卷积神经网络，使用第二个网络的识别效果更好"
   ]
  },
  {
   "cell_type": "code",
   "execution_count": 7,
   "metadata": {},
   "outputs": [],
   "source": [
    "def conv2d(x, w):\n",
    "    \"\"\"定义卷积函数\"\"\"\n",
    "    return tf.nn.conv2d(x, w, strides=[1, 1, 1, 1], padding='SAME')\n",
    "\n",
    "def max_pool_2_2(x):\n",
    "    \"\"\"定义2*2最大池化层\"\"\"\n",
    "    return tf.nn.max_pool(x, ksize=[1, 2, 2, 1], strides=[1, 2, 2, 1], padding='SAME')"
   ]
  },
  {
   "cell_type": "code",
   "execution_count": 10,
   "metadata": {},
   "outputs": [],
   "source": [
    "##########################\n",
    "#     精简卷积神经网络   #\n",
    "##########################\n",
    "# acc=0.99935\n",
    "# 效果没有后面的网络好\n",
    "xs = tf.placeholder(tf.float32,shape=(None,96*96),name = \"xs\")\n",
    "ys = tf.placeholder(tf.float32,shape=(None,15*15,3),name = \"ys\")\n",
    "keep_prob = tf.placeholder(tf.float32,name = \"keep_prob\")\n",
    "\n",
    "y0 = tf.reshape(xs,[-1,96,96,1])\n",
    "# 第一层 卷积\n",
    "w1 = tf.Variable(tf.truncated_normal(shape=[3,3,1,8], stddev=0.1))\n",
    "b1 = tf.Variable(tf.constant(0.1,shape=[8]))\n",
    "h1 =tf.nn.relu(conv2d(y0, w1) + b1)\n",
    "y1 = max_pool_2_2(h1)\n",
    "\n",
    "# 第二层 卷积\n",
    "w2 = tf.Variable(tf.truncated_normal(shape=[3,3,8,16], stddev=0.1))\n",
    "b2 = tf.Variable(tf.constant(0.1,shape=[1, 16]))\n",
    "h2 =tf.nn.relu(conv2d(y1, w2) + b2)\n",
    "y2 = max_pool_2_2(h2)\n",
    "\n",
    "# 第三层 卷积\n",
    "w3 = tf.Variable(tf.truncated_normal(shape=[3,3,16,32], stddev=0.1))\n",
    "b3 = tf.Variable(tf.constant(0.1,shape=[1, 32]))\n",
    "h3 =tf.nn.relu(conv2d(y2, w3) + b3)\n",
    "y3 = max_pool_2_2(h3)\n",
    "\n",
    "# 第四层 全连接\n",
    "w4 = tf.Variable(tf.truncated_normal(shape=[12*12*32, 1024],stddev=0.1))\n",
    "b4 = tf.Variable(tf.constant(0.1,shape=[1, 1024]))\n",
    "h4 = tf.reshape(y3,[-1,12*12*32])\n",
    "y4 = tf.nn.sigmoid(tf.matmul(h4, w4) + b4)\n",
    "\n",
    "h_y4_drop = tf.nn.dropout(y4,keep_prob)#防止过拟合\n",
    "\n",
    "# 第五层 输出层\n",
    "w5= tf.Variable(tf.truncated_normal(shape=[1024, 15*15*3],stddev=0.1))\n",
    "b5 = tf.Variable(tf.constant(0.1,shape=[1, 15*15*3]))\n",
    "y5 = tf.matmul(h_y4_drop,w5)+b5\n",
    "\n",
    "# Softmax\n",
    "y =tf.nn.softmax(tf.reshape(y5,[-1,15*15,3]),name=\"y\")"
   ]
  },
  {
   "cell_type": "code",
   "execution_count": 8,
   "metadata": {},
   "outputs": [],
   "source": [
    "######################\n",
    "#     卷积神经网络   #\n",
    "#####################\n",
    "# acc=1\n",
    "xs = tf.placeholder(tf.float32,shape=(None,96*96),name = \"xs\")\n",
    "ys = tf.placeholder(tf.float32,shape=(None,15*15,3),name = \"ys\")\n",
    "keep_prob = tf.placeholder(tf.float32,name = \"keep_prob\")\n",
    "# ylab = tf.placeholder(tf.int64,shape=(None,15*15))\n",
    "\n",
    "y0 = tf.reshape(xs,[-1,96,96,1])\n",
    "# 第一层 卷积\n",
    "w1 = tf.Variable(tf.truncated_normal(shape=[3,3,1,8], stddev=0.1))\n",
    "b1 = tf.Variable(tf.constant(0.1,shape=[8]))\n",
    "h1 =tf.nn.relu(conv2d(y0, w1) + b1)\n",
    "y1 = max_pool_2_2(h1)\n",
    "\n",
    "# 第二层 卷积\n",
    "w2 = tf.Variable(tf.truncated_normal(shape=[3,3,8,16], stddev=0.1))\n",
    "b2 = tf.Variable(tf.constant(0.1,shape=[1, 16]))\n",
    "h2 =tf.nn.relu(conv2d(y1, w2) + b2)\n",
    "y2 = max_pool_2_2(h2)\n",
    "\n",
    "# 第三层 全连接\n",
    "w3 = tf.Variable(tf.truncated_normal(shape=[24*24*16, 15*15*3],stddev=0.1))\n",
    "b3 = tf.Variable(tf.constant(0.1,shape=[1, 15*15*3]))\n",
    "h3 = tf.reshape(y2,[-1,24*24*16])\n",
    "y3 = tf.nn.sigmoid(tf.matmul(h3, w3) + b3)\n",
    "\n",
    "# Softmax\n",
    "y =tf.nn.softmax(tf.reshape(y3,[-1,15*15,3]),name = \"y\")"
   ]
  },
  {
   "cell_type": "markdown",
   "metadata": {},
   "source": [
    "定义损失函数、优化函数、优化器"
   ]
  },
  {
   "cell_type": "code",
   "execution_count": 9,
   "metadata": {},
   "outputs": [],
   "source": [
    "# 损失函数\n",
    "cross_entropy = -tf.reduce_sum(ys*tf.log(y),reduction_indices=[1,2])\n",
    "#cross_entropy = -tf.reduce_sum(ys*tf.log(y))\n",
    "loss = tf.reduce_mean(cross_entropy)\n",
    "#loss = tf.reduce_sum(tf.square(ys - y))\n",
    "# 正确率\n",
    "correct = tf.equal(tf.argmax(y,2),tf.argmax(ys,2))\n",
    "acc = tf.reduce_mean(tf.cast(correct,tf.float32))\n",
    "\n",
    "# 优化函数\n",
    "train = tf.train.AdamOptimizer(1e-3).minimize(loss)"
   ]
  },
  {
   "cell_type": "code",
   "execution_count": 10,
   "metadata": {},
   "outputs": [],
   "source": [
    "# 变量初始化\n",
    "init = tf.global_variables_initializer()\n",
    "sess.run(init)"
   ]
  },
  {
   "cell_type": "code",
   "execution_count": 11,
   "metadata": {},
   "outputs": [
    {
     "name": "stdout",
     "output_type": "stream",
     "text": [
      "(1, 9216)\n",
      "0.3288889\n",
      "247.98145\n"
     ]
    }
   ],
   "source": [
    "batch = get_train_batch(1)\n",
    "\n",
    "print(batch[0].shape)\n",
    "#print(sess.run(y,feed_dict={xs:batch[0],ys:batch[1],keep_prob:0.5}))\n",
    "print(sess.run(acc,feed_dict={xs:batch[0],ys:batch[1],keep_prob:1.0}))\n",
    "print(sess.run(loss,feed_dict={xs:batch[0],ys:batch[1],keep_prob:1.0}))"
   ]
  },
  {
   "cell_type": "markdown",
   "metadata": {},
   "source": [
    "开始训练"
   ]
  },
  {
   "cell_type": "code",
   "execution_count": 12,
   "metadata": {},
   "outputs": [],
   "source": [
    "res_train_loss = []\n",
    "res_train_acc = []\n",
    "\n",
    "res_test_loss = []\n",
    "res_test_acc = []"
   ]
  },
  {
   "cell_type": "code",
   "execution_count": 14,
   "metadata": {
    "scrolled": false
   },
   "outputs": [
    {
     "name": "stdout",
     "output_type": "stream",
     "text": [
      "  time 0 loss:234.03326  acc:0.486059\n",
      "test  time:0  loss:237.86504  acc:0.454867\n",
      "  time 5 loss:232.14783  acc:0.498403\n",
      "  time 10 loss:224.81958  acc:0.523212\n",
      "  time 15 loss:215.79324  acc:0.556181\n",
      "  time 20 loss:214.11888  acc:0.576042\n",
      "  time 25 loss:207.96591  acc:0.591319\n",
      "  time 30 loss:207.03546  acc:0.588611\n",
      "  time 35 loss:204.46181  acc:0.605156\n",
      "  time 40 loss:198.99777  acc:0.627813\n",
      "  time 45 loss:201.40103  acc:0.620729\n",
      "  time 50 loss:200.42195  acc:0.626580\n",
      "test  time:50  loss:204.46304  acc:0.599444\n",
      "  time 55 loss:201.28038  acc:0.622413\n",
      "  time 60 loss:203.64587  acc:0.616927\n",
      "  time 65 loss:199.99283  acc:0.634861\n",
      "  time 70 loss:203.87996  acc:0.618108\n",
      "  time 75 loss:198.30054  acc:0.646979\n",
      "  time 80 loss:196.60648  acc:0.657691\n",
      "  time 85 loss:202.76846  acc:0.633733\n",
      "  time 90 loss:197.14282  acc:0.661128\n",
      "  time 95 loss:201.96927  acc:0.641250\n",
      "  time 100 loss:198.72974  acc:0.659184\n",
      "test  time:100  loss:200.77614  acc:0.642151\n",
      "  time 105 loss:197.50430  acc:0.662899\n",
      "  time 110 loss:194.71777  acc:0.676545\n",
      "  time 115 loss:196.61284  acc:0.670920\n",
      "  time 120 loss:193.29700  acc:0.683611\n",
      "  time 125 loss:197.64554  acc:0.670486\n",
      "  time 130 loss:192.15961  acc:0.692031\n",
      "  time 135 loss:191.50990  acc:0.694236\n",
      "  time 140 loss:191.88359  acc:0.695503\n",
      "  time 145 loss:188.16269  acc:0.707552\n",
      "  time 150 loss:185.67303  acc:0.721163\n",
      "test  time:150  loss:191.87497  acc:0.688867\n",
      "  time 155 loss:186.14056  acc:0.715069\n",
      "  time 160 loss:187.51910  acc:0.709809\n",
      "  time 165 loss:183.31400  acc:0.730955\n",
      "  time 170 loss:182.60364  acc:0.729601\n",
      "  time 175 loss:180.16292  acc:0.740139\n",
      "  time 180 loss:178.68663  acc:0.741424\n",
      "  time 185 loss:175.83498  acc:0.753872\n",
      "  time 190 loss:174.92427  acc:0.754340\n",
      "  time 195 loss:171.60515  acc:0.767587\n",
      "  time 200 loss:170.81248  acc:0.769497\n",
      "test  time:200  loss:175.47466  acc:0.748009\n",
      "  time 205 loss:168.23952  acc:0.770868\n",
      "  time 210 loss:168.52599  acc:0.771892\n",
      "  time 215 loss:169.10638  acc:0.772326\n",
      "  time 220 loss:166.34695  acc:0.785625\n",
      "  time 225 loss:165.58447  acc:0.785156\n",
      "  time 230 loss:163.87540  acc:0.785399\n",
      "  time 235 loss:163.53816  acc:0.786007\n",
      "  time 240 loss:162.16820  acc:0.800972\n",
      "  time 245 loss:160.24089  acc:0.802448\n",
      "  time 250 loss:159.65454  acc:0.807222\n",
      "test  time:250  loss:165.25195  acc:0.779538\n",
      "  time 255 loss:161.60391  acc:0.787674\n",
      "  time 260 loss:160.12947  acc:0.800208\n",
      "  time 265 loss:158.55722  acc:0.814236\n",
      "  time 270 loss:159.86736  acc:0.801076\n",
      "  time 275 loss:157.02458  acc:0.811788\n",
      "  time 280 loss:159.10909  acc:0.804045\n",
      "  time 285 loss:157.73836  acc:0.804219\n",
      "  time 290 loss:156.80276  acc:0.811649\n",
      "  time 295 loss:155.14526  acc:0.825712\n",
      "  time 300 loss:156.08041  acc:0.814306\n",
      "test  time:300  loss:160.16704  acc:0.796791\n",
      "  time 305 loss:155.14456  acc:0.817986\n",
      "  time 310 loss:154.30856  acc:0.818906\n",
      "  time 315 loss:153.97363  acc:0.819132\n",
      "  time 320 loss:154.67361  acc:0.818993\n",
      "  time 325 loss:153.71277  acc:0.821354\n",
      "  time 330 loss:154.86676  acc:0.815208\n",
      "  time 335 loss:153.15059  acc:0.820226\n",
      "  time 340 loss:152.66168  acc:0.824253\n",
      "  time 345 loss:151.98213  acc:0.827465\n",
      "  time 350 loss:153.88782  acc:0.811615\n",
      "test  time:350  loss:156.37605  acc:0.802942\n",
      "  time 355 loss:151.24561  acc:0.833264\n",
      "  time 360 loss:150.87105  acc:0.829948\n",
      "  time 365 loss:151.67984  acc:0.825868\n",
      "  time 370 loss:150.66510  acc:0.827187\n",
      "  time 375 loss:150.30817  acc:0.833958\n",
      "  time 380 loss:149.66554  acc:0.829705\n",
      "  time 385 loss:148.85255  acc:0.830868\n",
      "  time 390 loss:148.88831  acc:0.833160\n",
      "  time 395 loss:149.59827  acc:0.830955\n",
      "  time 400 loss:147.47943  acc:0.836406\n",
      "test  time:400  loss:153.22841  acc:0.812476\n",
      "  time 405 loss:149.27271  acc:0.832083\n",
      "  time 410 loss:148.39600  acc:0.832552\n",
      "  time 415 loss:147.24014  acc:0.838281\n",
      "  time 420 loss:147.72540  acc:0.836840\n",
      "  time 425 loss:147.35733  acc:0.835781\n",
      "  time 430 loss:148.51443  acc:0.820781\n",
      "  time 435 loss:147.64954  acc:0.830851\n",
      "  time 440 loss:145.94545  acc:0.839497\n",
      "  time 445 loss:146.73807  acc:0.829965\n",
      "  time 450 loss:146.12579  acc:0.836042\n",
      "test  time:450  loss:150.10022  acc:0.816618\n",
      "  time 455 loss:146.74744  acc:0.830122\n",
      "  time 460 loss:146.72835  acc:0.828385\n",
      "  time 465 loss:145.40402  acc:0.841024\n",
      "  time 470 loss:144.88286  acc:0.840937\n",
      "  time 475 loss:144.17392  acc:0.850625\n",
      "  time 480 loss:144.76074  acc:0.845312\n",
      "  time 485 loss:143.84422  acc:0.847309\n",
      "  time 490 loss:143.52341  acc:0.850365\n",
      "  time 495 loss:142.74823  acc:0.851372\n",
      "  time 500 loss:145.02527  acc:0.840868\n",
      "test  time:500  loss:148.10851  acc:0.825502\n",
      "  time 505 loss:143.98782  acc:0.843160\n",
      "  time 510 loss:143.40839  acc:0.848576\n",
      "  time 515 loss:142.93358  acc:0.845972\n",
      "  time 520 loss:143.49347  acc:0.846128\n",
      "  time 525 loss:143.83783  acc:0.843507\n",
      "  time 530 loss:143.29291  acc:0.846111\n",
      "  time 535 loss:143.22046  acc:0.842066\n",
      "  time 540 loss:143.18977  acc:0.843177\n",
      "  time 545 loss:142.87585  acc:0.848333\n",
      "  time 550 loss:143.49234  acc:0.841476\n",
      "test  time:550  loss:146.64813  acc:0.827311\n",
      "  time 555 loss:142.75471  acc:0.849253\n",
      "  time 560 loss:141.97595  acc:0.853490\n",
      "  time 565 loss:142.24968  acc:0.852188\n",
      "  time 570 loss:142.56566  acc:0.847691\n",
      "  time 575 loss:142.72412  acc:0.848542\n",
      "  time 580 loss:143.33031  acc:0.844549\n",
      "  time 585 loss:142.38887  acc:0.846944\n",
      "  time 590 loss:141.50256  acc:0.853108\n",
      "  time 595 loss:143.08530  acc:0.845764\n",
      "  time 600 loss:142.39491  acc:0.848733\n",
      "test  time:600  loss:145.50563  acc:0.835062\n",
      "  time 605 loss:140.65207  acc:0.859826\n",
      "  time 610 loss:142.16957  acc:0.847587\n",
      "  time 615 loss:141.45160  acc:0.852378\n",
      "  time 620 loss:140.78349  acc:0.854514\n",
      "  time 625 loss:141.62769  acc:0.849878\n",
      "  time 630 loss:141.87381  acc:0.848594\n",
      "  time 635 loss:141.48225  acc:0.848941\n",
      "  time 640 loss:141.74217  acc:0.850208\n",
      "  time 645 loss:140.32903  acc:0.864115\n",
      "  time 650 loss:141.17346  acc:0.859253\n",
      "test  time:650  loss:144.71329  acc:0.838729\n",
      "  time 655 loss:139.96730  acc:0.860399\n",
      "  time 660 loss:141.91307  acc:0.842483\n",
      "  time 665 loss:141.56784  acc:0.846979\n",
      "  time 670 loss:141.38615  acc:0.852795\n",
      "  time 675 loss:140.69870  acc:0.858507\n",
      "  time 680 loss:140.20636  acc:0.866580\n",
      "  time 685 loss:140.56799  acc:0.860052\n",
      "  time 690 loss:140.62433  acc:0.856944\n",
      "  time 695 loss:139.24017  acc:0.867847\n",
      "  time 700 loss:139.96506  acc:0.860903\n",
      "test  time:700  loss:143.95241  acc:0.840387\n",
      "  time 705 loss:139.79381  acc:0.866840\n",
      "  time 710 loss:140.02859  acc:0.859444\n",
      "  time 715 loss:139.83722  acc:0.863576\n",
      "  time 720 loss:139.76480  acc:0.858785\n",
      "  time 725 loss:139.76216  acc:0.858837\n",
      "  time 730 loss:141.02826  acc:0.854115\n",
      "  time 735 loss:140.19012  acc:0.859306\n",
      "  time 740 loss:139.62518  acc:0.868333\n",
      "  time 745 loss:139.76802  acc:0.863889\n",
      "  time 750 loss:139.64313  acc:0.871181\n",
      "test  time:750  loss:143.45830  acc:0.845773\n",
      "  time 755 loss:139.55705  acc:0.865313\n",
      "  time 760 loss:139.79892  acc:0.863785\n",
      "  time 765 loss:139.88641  acc:0.868333\n",
      "  time 770 loss:139.96094  acc:0.863368\n",
      "  time 775 loss:139.13472  acc:0.875486\n",
      "  time 780 loss:138.75735  acc:0.873958\n",
      "  time 785 loss:138.91965  acc:0.870642\n",
      "  time 790 loss:139.89818  acc:0.862222\n",
      "  time 795 loss:139.12851  acc:0.869045\n",
      "  time 800 loss:138.52180  acc:0.874219\n",
      "test  time:800  loss:142.90120  acc:0.850529\n",
      "  time 805 loss:139.54968  acc:0.869271\n",
      "  time 810 loss:138.78369  acc:0.870625\n",
      "  time 815 loss:138.30556  acc:0.871528\n",
      "  time 820 loss:139.13821  acc:0.867917\n",
      "  time 825 loss:139.03006  acc:0.871875\n",
      "  time 830 loss:138.51074  acc:0.874948\n",
      "  time 835 loss:138.39812  acc:0.878472\n",
      "  time 840 loss:138.73508  acc:0.874184\n",
      "  time 845 loss:138.73892  acc:0.867448\n",
      "  time 850 loss:138.73215  acc:0.869583\n",
      "test  time:850  loss:142.48013  acc:0.853093\n",
      "  time 855 loss:139.62471  acc:0.867708\n",
      "  time 860 loss:138.51859  acc:0.877292\n",
      "  time 865 loss:137.77902  acc:0.878160\n",
      "  time 870 loss:138.88043  acc:0.869896\n",
      "  time 875 loss:139.12759  acc:0.867847\n",
      "  time 880 loss:137.94551  acc:0.876615\n",
      "  time 885 loss:137.94951  acc:0.876875\n",
      "  time 890 loss:138.63206  acc:0.867049\n",
      "  time 895 loss:137.31314  acc:0.885243\n",
      "  time 900 loss:138.41527  acc:0.878802\n",
      "test  time:900  loss:142.13068  acc:0.860396\n",
      "  time 905 loss:138.02295  acc:0.876562\n",
      "  time 910 loss:138.47005  acc:0.876562\n",
      "  time 915 loss:138.48567  acc:0.875538\n",
      "  time 920 loss:138.02287  acc:0.879497\n"
     ]
    },
    {
     "name": "stdout",
     "output_type": "stream",
     "text": [
      "  time 925 loss:137.89864  acc:0.880747\n",
      "  time 930 loss:137.66388  acc:0.878385\n",
      "  time 935 loss:136.98312  acc:0.886806\n",
      "  time 940 loss:137.95073  acc:0.879097\n",
      "  time 945 loss:138.16606  acc:0.876024\n",
      "  time 950 loss:137.73320  acc:0.880208\n",
      "test  time:950  loss:141.50191  acc:0.863311\n",
      "  time 955 loss:137.49442  acc:0.881007\n",
      "  time 960 loss:137.15790  acc:0.889271\n",
      "  time 965 loss:137.63882  acc:0.885434\n",
      "  time 970 loss:137.10590  acc:0.884583\n",
      "  time 975 loss:137.25256  acc:0.882240\n",
      "  time 980 loss:138.30061  acc:0.878420\n",
      "  time 985 loss:136.94868  acc:0.887552\n",
      "  time 990 loss:137.81116  acc:0.884549\n",
      "  time 995 loss:137.32884  acc:0.887934\n",
      "  time 1000 loss:137.52121  acc:0.884306\n",
      "test  time:1000  loss:141.19556  acc:0.868467\n",
      "  time 1005 loss:137.32843  acc:0.891042\n",
      "  time 1010 loss:137.27124  acc:0.885226\n",
      "  time 1015 loss:137.61156  acc:0.882292\n",
      "  time 1020 loss:136.61209  acc:0.888299\n",
      "  time 1025 loss:136.08456  acc:0.895642\n",
      "  time 1030 loss:137.43599  acc:0.884948\n",
      "  time 1035 loss:137.09927  acc:0.886111\n",
      "  time 1040 loss:136.30310  acc:0.893194\n",
      "  time 1045 loss:136.37271  acc:0.894358\n",
      "  time 1050 loss:136.82458  acc:0.892014\n",
      "test  time:1050  loss:140.55275  acc:0.875631\n",
      "  time 1055 loss:136.43280  acc:0.891632\n",
      "  time 1060 loss:136.78256  acc:0.893924\n",
      "  time 1065 loss:136.73299  acc:0.893108\n",
      "  time 1070 loss:136.97131  acc:0.892500\n",
      "  time 1075 loss:136.37698  acc:0.897500\n",
      "  time 1080 loss:136.50111  acc:0.893941\n",
      "  time 1085 loss:136.54391  acc:0.889896\n",
      "  time 1090 loss:136.79517  acc:0.889097\n",
      "  time 1095 loss:135.90448  acc:0.892031\n",
      "  time 1100 loss:135.98071  acc:0.898247\n",
      "test  time:1100  loss:140.09944  acc:0.882396\n",
      "  time 1105 loss:136.07578  acc:0.901111\n",
      "  time 1110 loss:136.43175  acc:0.896250\n",
      "  time 1115 loss:137.01813  acc:0.894340\n",
      "  time 1120 loss:135.56424  acc:0.900729\n",
      "  time 1125 loss:135.53236  acc:0.899462\n",
      "  time 1130 loss:136.98853  acc:0.893385\n",
      "  time 1135 loss:136.16391  acc:0.897569\n",
      "  time 1140 loss:136.03331  acc:0.896719\n",
      "  time 1145 loss:136.18446  acc:0.896406\n",
      "  time 1150 loss:135.90631  acc:0.898299\n",
      "test  time:1150  loss:139.50298  acc:0.888067\n",
      "  time 1155 loss:135.70743  acc:0.908733\n",
      "  time 1160 loss:136.00833  acc:0.903299\n",
      "  time 1165 loss:136.17995  acc:0.900122\n",
      "  time 1170 loss:135.35796  acc:0.905573\n",
      "  time 1175 loss:135.90663  acc:0.902535\n",
      "  time 1180 loss:136.13260  acc:0.903021\n",
      "  time 1185 loss:135.75702  acc:0.903802\n",
      "  time 1190 loss:134.99997  acc:0.907031\n",
      "  time 1195 loss:135.01569  acc:0.909115\n",
      "  time 1200 loss:134.79245  acc:0.913316\n",
      "test  time:1200  loss:138.89871  acc:0.895822\n",
      "  time 1205 loss:134.69688  acc:0.910799\n",
      "  time 1210 loss:134.38126  acc:0.911441\n",
      "  time 1215 loss:135.23830  acc:0.906667\n",
      "  time 1220 loss:135.28131  acc:0.909792\n",
      "  time 1225 loss:134.94417  acc:0.913281\n",
      "  time 1230 loss:135.13367  acc:0.913368\n",
      "  time 1235 loss:134.63818  acc:0.918229\n",
      "  time 1240 loss:134.86211  acc:0.916441\n",
      "  time 1245 loss:134.60857  acc:0.922865\n",
      "  time 1250 loss:134.78915  acc:0.917274\n",
      "test  time:1250  loss:138.02348  acc:0.907364\n",
      "  time 1255 loss:134.11449  acc:0.921267\n",
      "  time 1260 loss:135.45969  acc:0.913281\n",
      "  time 1265 loss:133.92229  acc:0.924271\n",
      "  time 1270 loss:134.11636  acc:0.924375\n",
      "  time 1275 loss:134.16040  acc:0.922899\n",
      "  time 1280 loss:133.98729  acc:0.924184\n",
      "  time 1285 loss:133.82147  acc:0.929149\n",
      "  time 1290 loss:134.41937  acc:0.925417\n",
      "  time 1295 loss:133.82428  acc:0.930069\n",
      "  time 1300 loss:133.27649  acc:0.933108\n",
      "test  time:1300  loss:137.11012  acc:0.920578\n",
      "  time 1305 loss:133.42885  acc:0.931389\n",
      "  time 1310 loss:133.53415  acc:0.933924\n",
      "  time 1315 loss:133.16275  acc:0.933472\n",
      "  time 1320 loss:133.28839  acc:0.931806\n",
      "  time 1325 loss:132.45393  acc:0.938177\n",
      "  time 1330 loss:132.60291  acc:0.937448\n",
      "  time 1335 loss:132.95010  acc:0.936476\n",
      "  time 1340 loss:132.56786  acc:0.936840\n",
      "  time 1345 loss:132.29184  acc:0.940816\n",
      "  time 1350 loss:132.36809  acc:0.941927\n",
      "test  time:1350  loss:135.68219  acc:0.934560\n",
      "  time 1355 loss:132.47656  acc:0.940955\n",
      "  time 1360 loss:132.03737  acc:0.945538\n",
      "  time 1365 loss:132.15286  acc:0.944444\n",
      "  time 1370 loss:131.65297  acc:0.947986\n",
      "  time 1375 loss:131.56258  acc:0.947517\n",
      "  time 1380 loss:131.67218  acc:0.948299\n",
      "  time 1385 loss:131.46973  acc:0.951823\n",
      "  time 1390 loss:131.33211  acc:0.952517\n",
      "  time 1395 loss:130.94281  acc:0.953628\n",
      "  time 1400 loss:130.62935  acc:0.953472\n",
      "test  time:1400  loss:134.05215  acc:0.946156\n",
      "  time 1405 loss:130.67743  acc:0.954809\n",
      "  time 1410 loss:130.72565  acc:0.954444\n",
      "  time 1415 loss:130.83215  acc:0.957604\n",
      "  time 1420 loss:130.42917  acc:0.957517\n",
      "  time 1425 loss:130.07988  acc:0.958646\n",
      "  time 1430 loss:130.00272  acc:0.960938\n",
      "  time 1435 loss:129.74310  acc:0.961545\n",
      "  time 1440 loss:129.92227  acc:0.959583\n",
      "  time 1445 loss:129.91438  acc:0.963681\n",
      "  time 1450 loss:129.88802  acc:0.963472\n",
      "test  time:1450  loss:132.30229  acc:0.957316\n",
      "  time 1455 loss:129.17896  acc:0.966424\n",
      "  time 1460 loss:129.59956  acc:0.964167\n",
      "  time 1465 loss:129.40048  acc:0.964878\n",
      "  time 1470 loss:129.31674  acc:0.965434\n",
      "  time 1475 loss:129.26530  acc:0.966510\n",
      "  time 1480 loss:128.91914  acc:0.967309\n",
      "  time 1485 loss:128.88211  acc:0.967240\n",
      "  time 1490 loss:128.29892  acc:0.970729\n",
      "  time 1495 loss:128.72491  acc:0.970104\n",
      "  time 1500 loss:128.36592  acc:0.970694\n",
      "test  time:1500  loss:130.74428  acc:0.965756\n",
      "  time 1505 loss:127.99348  acc:0.972604\n",
      "  time 1510 loss:128.08264  acc:0.969826\n",
      "  time 1515 loss:127.99043  acc:0.971302\n",
      "  time 1520 loss:127.74097  acc:0.974809\n",
      "  time 1525 loss:127.87839  acc:0.971944\n",
      "  time 1530 loss:127.93832  acc:0.974323\n",
      "  time 1535 loss:127.88154  acc:0.974149\n",
      "  time 1540 loss:127.66018  acc:0.974878\n",
      "  time 1545 loss:127.58884  acc:0.975035\n",
      "  time 1550 loss:127.12221  acc:0.976076\n",
      "test  time:1550  loss:129.36911  acc:0.971720\n",
      "  time 1555 loss:127.55977  acc:0.974410\n",
      "  time 1560 loss:127.31384  acc:0.975747\n",
      "  time 1565 loss:126.87559  acc:0.978177\n",
      "  time 1570 loss:126.96346  acc:0.977396\n",
      "  time 1575 loss:126.89683  acc:0.978264\n",
      "  time 1580 loss:127.13826  acc:0.976024\n",
      "  time 1585 loss:126.83689  acc:0.977830\n",
      "  time 1590 loss:126.79124  acc:0.979097\n",
      "  time 1595 loss:126.87608  acc:0.977604\n",
      "  time 1600 loss:126.74429  acc:0.980729\n",
      "test  time:1600  loss:128.32047  acc:0.976182\n",
      "  time 1605 loss:126.77114  acc:0.978819\n",
      "  time 1610 loss:126.69109  acc:0.979688\n",
      "  time 1615 loss:126.72209  acc:0.978628\n",
      "  time 1620 loss:126.32372  acc:0.981476\n",
      "  time 1625 loss:126.38210  acc:0.980052\n",
      "  time 1630 loss:126.45264  acc:0.981372\n",
      "  time 1635 loss:126.37691  acc:0.981424\n",
      "  time 1640 loss:126.22678  acc:0.982569\n",
      "  time 1645 loss:126.15498  acc:0.982986\n",
      "  time 1650 loss:126.13702  acc:0.982899\n",
      "test  time:1650  loss:127.59319  acc:0.980511\n",
      "  time 1655 loss:126.09146  acc:0.983993\n",
      "  time 1660 loss:126.08207  acc:0.983073\n",
      "  time 1665 loss:125.86435  acc:0.984444\n",
      "  time 1670 loss:125.87444  acc:0.984635\n",
      "  time 1675 loss:125.76327  acc:0.985694\n",
      "  time 1680 loss:125.70868  acc:0.985764\n",
      "  time 1685 loss:125.74174  acc:0.985451\n",
      "  time 1690 loss:125.74078  acc:0.986545\n",
      "  time 1695 loss:125.67912  acc:0.986806\n",
      "  time 1700 loss:125.79799  acc:0.986424\n",
      "test  time:1700  loss:126.93143  acc:0.984382\n",
      "  time 1705 loss:125.44802  acc:0.987483\n",
      "  time 1710 loss:125.51118  acc:0.986250\n",
      "  time 1715 loss:125.48924  acc:0.987031\n",
      "  time 1720 loss:125.39674  acc:0.989288\n",
      "  time 1725 loss:125.31937  acc:0.988490\n",
      "  time 1730 loss:125.25901  acc:0.988819\n",
      "  time 1735 loss:125.19009  acc:0.988889\n",
      "  time 1740 loss:125.29111  acc:0.989045\n",
      "  time 1745 loss:125.09111  acc:0.989861\n",
      "  time 1750 loss:125.23946  acc:0.988611\n",
      "test  time:1750  loss:126.29868  acc:0.987551\n",
      "  time 1755 loss:125.10448  acc:0.988628\n",
      "  time 1760 loss:125.17982  acc:0.989931\n",
      "  time 1765 loss:124.97173  acc:0.990139\n",
      "  time 1770 loss:125.00887  acc:0.990052\n",
      "  time 1775 loss:124.92393  acc:0.991007\n",
      "  time 1780 loss:124.81727  acc:0.991146\n",
      "  time 1785 loss:124.88345  acc:0.991389\n",
      "  time 1790 loss:124.80740  acc:0.991458\n",
      "  time 1795 loss:124.71748  acc:0.991806\n",
      "  time 1800 loss:124.75011  acc:0.992535\n",
      "test  time:1800  loss:125.71609  acc:0.990422\n",
      "  time 1805 loss:124.67358  acc:0.992049\n",
      "  time 1810 loss:124.57036  acc:0.992309\n",
      "  time 1815 loss:124.62949  acc:0.992847\n",
      "  time 1820 loss:124.51407  acc:0.992899\n",
      "  time 1825 loss:124.45766  acc:0.992778\n"
     ]
    },
    {
     "name": "stdout",
     "output_type": "stream",
     "text": [
      "  time 1830 loss:124.46474  acc:0.993281\n",
      "  time 1835 loss:124.43492  acc:0.994115\n",
      "  time 1840 loss:124.34922  acc:0.994687\n",
      "  time 1845 loss:124.46687  acc:0.994097\n",
      "  time 1850 loss:124.42914  acc:0.994583\n",
      "test  time:1850  loss:125.24146  acc:0.993427\n",
      "  time 1855 loss:124.28685  acc:0.994253\n",
      "  time 1860 loss:124.29038  acc:0.995260\n",
      "  time 1865 loss:124.24638  acc:0.994514\n",
      "  time 1870 loss:124.15511  acc:0.995174\n",
      "  time 1875 loss:124.17641  acc:0.995000\n",
      "  time 1880 loss:124.17249  acc:0.995330\n",
      "  time 1885 loss:124.18481  acc:0.995069\n",
      "  time 1890 loss:124.13352  acc:0.994948\n",
      "  time 1895 loss:124.16841  acc:0.995868\n",
      "  time 1900 loss:124.00691  acc:0.996007\n",
      "test  time:1900  loss:124.78168  acc:0.994947\n",
      "  time 1905 loss:124.00214  acc:0.996302\n",
      "  time 1910 loss:124.09103  acc:0.995729\n",
      "  time 1915 loss:124.00925  acc:0.995833\n",
      "  time 1920 loss:123.98065  acc:0.996267\n",
      "  time 1925 loss:123.92934  acc:0.996510\n",
      "  time 1930 loss:123.85673  acc:0.997101\n",
      "  time 1935 loss:123.87411  acc:0.997014\n",
      "  time 1940 loss:123.84863  acc:0.996528\n",
      "  time 1945 loss:123.77549  acc:0.997135\n",
      "  time 1950 loss:123.75132  acc:0.997274\n",
      "test  time:1950  loss:124.41228  acc:0.996671\n",
      "  time 1955 loss:123.79993  acc:0.996840\n",
      "  time 1960 loss:123.77188  acc:0.997639\n",
      "  time 1965 loss:123.72876  acc:0.997378\n",
      "  time 1970 loss:123.74071  acc:0.997674\n",
      "  time 1975 loss:123.69183  acc:0.997257\n",
      "  time 1980 loss:123.68105  acc:0.997760\n",
      "  time 1985 loss:123.56062  acc:0.998299\n",
      "  time 1990 loss:123.58221  acc:0.998177\n",
      "  time 1995 loss:123.56428  acc:0.998264\n",
      "  time 2000 loss:123.53108  acc:0.998316\n",
      "test  time:2000  loss:124.09869  acc:0.997693\n",
      "  time 2005 loss:123.54938  acc:0.998299\n",
      "  time 2010 loss:123.44426  acc:0.998490\n",
      "  time 2015 loss:123.47512  acc:0.998819\n",
      "  time 2020 loss:123.50959  acc:0.998646\n",
      "  time 2025 loss:123.48985  acc:0.998819\n",
      "  time 2030 loss:123.44490  acc:0.998924\n",
      "  time 2035 loss:123.38890  acc:0.998681\n",
      "  time 2040 loss:123.43363  acc:0.998802\n",
      "  time 2045 loss:123.40374  acc:0.998854\n",
      "  time 2050 loss:123.37632  acc:0.998559\n",
      "test  time:2050  loss:123.86054  acc:0.998209\n",
      "  time 2055 loss:123.31857  acc:0.999045\n",
      "  time 2060 loss:123.36304  acc:0.998750\n",
      "  time 2065 loss:123.35154  acc:0.999010\n",
      "  time 2070 loss:123.33008  acc:0.998889\n",
      "  time 2075 loss:123.33395  acc:0.999045\n",
      "  time 2080 loss:123.29232  acc:0.999097\n",
      "  time 2085 loss:123.26572  acc:0.999097\n",
      "  time 2090 loss:123.28399  acc:0.999062\n",
      "  time 2095 loss:123.22031  acc:0.999253\n",
      "  time 2100 loss:123.27088  acc:0.999184\n",
      "test  time:2100  loss:123.61742  acc:0.999093\n",
      "  time 2105 loss:123.25717  acc:0.999219\n",
      "  time 2110 loss:123.20701  acc:0.999340\n",
      "  time 2115 loss:123.22432  acc:0.999219\n",
      "  time 2120 loss:123.20975  acc:0.999462\n",
      "  time 2125 loss:123.18687  acc:0.999497\n",
      "  time 2130 loss:123.18063  acc:0.999444\n",
      "  time 2135 loss:123.15623  acc:0.999653\n",
      "  time 2140 loss:123.15421  acc:0.999531\n",
      "  time 2145 loss:123.16602  acc:0.999687\n",
      "  time 2150 loss:123.12407  acc:0.999601\n",
      "test  time:2150  loss:123.45884  acc:0.999547\n",
      "  time 2155 loss:123.13445  acc:0.999670\n",
      "  time 2160 loss:123.12677  acc:0.999618\n",
      "  time 2165 loss:123.10020  acc:0.999479\n",
      "  time 2170 loss:123.09429  acc:0.999809\n",
      "  time 2175 loss:123.10011  acc:0.999601\n",
      "  time 2180 loss:123.09950  acc:0.999809\n",
      "  time 2185 loss:123.09182  acc:0.999740\n",
      "  time 2190 loss:123.08364  acc:0.999687\n",
      "  time 2195 loss:123.06253  acc:0.999809\n",
      "  time 2200 loss:123.07934  acc:0.999705\n",
      "test  time:2200  loss:123.36131  acc:0.999742\n",
      "  time 2205 loss:123.05394  acc:0.999861\n",
      "  time 2210 loss:123.03867  acc:0.999896\n",
      "  time 2215 loss:123.05116  acc:0.999826\n",
      "  time 2220 loss:123.04066  acc:0.999826\n",
      "  time 2225 loss:123.02616  acc:0.999878\n",
      "  time 2230 loss:123.03860  acc:0.999861\n",
      "  time 2235 loss:123.02711  acc:0.999878\n",
      "  time 2240 loss:123.02101  acc:0.999931\n",
      "  time 2245 loss:123.03539  acc:0.999896\n",
      "  time 2250 loss:123.04033  acc:0.999878\n",
      "test  time:2250  loss:123.27236  acc:0.999849\n",
      "  time 2255 loss:123.02277  acc:0.999948\n",
      "  time 2260 loss:123.01230  acc:0.999948\n",
      "  time 2265 loss:123.01339  acc:0.999844\n",
      "  time 2270 loss:123.00888  acc:0.999913\n",
      "  time 2275 loss:123.00430  acc:0.999931\n",
      "  time 2280 loss:122.97034  acc:1.000000\n",
      "  time 2285 loss:122.97642  acc:0.999983\n",
      "  time 2290 loss:122.98192  acc:1.000000\n",
      "  time 2295 loss:122.97523  acc:1.000000\n",
      "  time 2300 loss:122.97309  acc:0.999965\n",
      "test  time:2300  loss:123.19604  acc:0.999942\n",
      "  time 2305 loss:122.97836  acc:0.999983\n",
      "  time 2310 loss:122.96148  acc:1.000000\n",
      "  time 2315 loss:122.97376  acc:0.999983\n",
      "  time 2320 loss:122.94762  acc:1.000000\n",
      "  time 2325 loss:122.94904  acc:1.000000\n",
      "  time 2330 loss:122.94492  acc:1.000000\n",
      "  time 2335 loss:122.94255  acc:1.000000\n",
      "  time 2340 loss:122.95158  acc:0.999983\n",
      "  time 2345 loss:122.93462  acc:1.000000\n",
      "  time 2350 loss:122.94960  acc:1.000000\n",
      "test  time:2350  loss:123.14602  acc:0.999978\n",
      "  time 2355 loss:122.93521  acc:1.000000\n",
      "  time 2360 loss:122.94762  acc:1.000000\n",
      "  time 2365 loss:122.93040  acc:1.000000\n",
      "  time 2370 loss:122.93452  acc:1.000000\n",
      "  time 2375 loss:122.92373  acc:1.000000\n",
      "  time 2380 loss:122.93475  acc:1.000000\n",
      "  time 2385 loss:122.92527  acc:1.000000\n",
      "  time 2390 loss:122.92323  acc:1.000000\n",
      "  time 2395 loss:122.92278  acc:1.000000\n",
      "  time 2400 loss:122.92448  acc:1.000000\n",
      "test  time:2400  loss:123.09618  acc:0.999991\n",
      "  time 2405 loss:122.91990  acc:1.000000\n",
      "  time 2410 loss:122.91932  acc:1.000000\n",
      "  time 2415 loss:122.91832  acc:1.000000\n",
      "  time 2420 loss:122.92034  acc:1.000000\n",
      "  time 2425 loss:122.91826  acc:1.000000\n",
      "  time 2430 loss:122.92296  acc:1.000000\n",
      "  time 2435 loss:122.91080  acc:1.000000\n",
      "  time 2440 loss:122.91886  acc:1.000000\n",
      "  time 2445 loss:122.91346  acc:1.000000\n",
      "  time 2450 loss:122.90781  acc:1.000000\n",
      "test  time:2450  loss:123.06486  acc:1.000000\n",
      "  time 2455 loss:122.91108  acc:1.000000\n",
      "  time 2460 loss:122.90866  acc:1.000000\n",
      "  time 2465 loss:122.91057  acc:1.000000\n",
      "  time 2470 loss:122.90395  acc:1.000000\n",
      "  time 2475 loss:122.90520  acc:1.000000\n",
      "  time 2480 loss:122.90344  acc:1.000000\n",
      "  time 2485 loss:122.89753  acc:1.000000\n",
      "  time 2490 loss:122.90532  acc:1.000000\n",
      "  time 2495 loss:122.90119  acc:1.000000\n",
      "  time 2500 loss:122.89918  acc:1.000000\n",
      "test  time:2500  loss:123.04339  acc:1.000000\n",
      "  time 2505 loss:122.90016  acc:1.000000\n",
      "  time 2510 loss:122.89528  acc:1.000000\n",
      "  time 2515 loss:122.89632  acc:1.000000\n",
      "  time 2520 loss:122.89653  acc:1.000000\n",
      "  time 2525 loss:122.89217  acc:1.000000\n",
      "  time 2530 loss:122.89715  acc:1.000000\n",
      "  time 2535 loss:122.89619  acc:1.000000\n",
      "  time 2540 loss:122.89479  acc:1.000000\n",
      "  time 2545 loss:122.89558  acc:1.000000\n",
      "  time 2550 loss:122.89454  acc:1.000000\n",
      "test  time:2550  loss:123.02805  acc:1.000000\n",
      "  time 2555 loss:122.89157  acc:1.000000\n",
      "  time 2560 loss:122.89015  acc:1.000000\n",
      "  time 2565 loss:122.89362  acc:1.000000\n",
      "  time 2570 loss:122.89098  acc:1.000000\n",
      "  time 2575 loss:122.88969  acc:1.000000\n",
      "  time 2580 loss:122.88988  acc:1.000000\n",
      "  time 2585 loss:122.89108  acc:1.000000\n",
      "  time 2590 loss:122.89048  acc:1.000000\n",
      "  time 2595 loss:122.88797  acc:1.000000\n",
      "  time 2600 loss:122.88689  acc:1.000000\n",
      "test  time:2600  loss:123.01372  acc:1.000000\n",
      "  time 2605 loss:122.88533  acc:1.000000\n",
      "  time 2610 loss:122.88683  acc:1.000000\n",
      "  time 2615 loss:122.88403  acc:1.000000\n",
      "  time 2620 loss:122.88503  acc:1.000000\n",
      "  time 2625 loss:122.88804  acc:1.000000\n",
      "  time 2630 loss:122.88609  acc:1.000000\n",
      "  time 2635 loss:122.88443  acc:1.000000\n",
      "  time 2640 loss:122.88292  acc:1.000000\n",
      "  time 2645 loss:122.88238  acc:1.000000\n",
      "  time 2650 loss:122.88033  acc:1.000000\n",
      "test  time:2650  loss:123.00180  acc:1.000000\n",
      "  time 2655 loss:122.88126  acc:1.000000\n",
      "  time 2660 loss:122.88272  acc:1.000000\n",
      "  time 2665 loss:122.88383  acc:1.000000\n",
      "  time 2670 loss:122.88134  acc:1.000000\n",
      "  time 2675 loss:122.88091  acc:1.000000\n",
      "  time 2680 loss:122.88076  acc:1.000000\n",
      "  time 2685 loss:122.88138  acc:1.000000\n",
      "  time 2690 loss:122.87955  acc:1.000000\n",
      "  time 2695 loss:122.88052  acc:1.000000\n",
      "  time 2700 loss:122.88058  acc:1.000000\n",
      "test  time:2700  loss:122.99059  acc:1.000000\n",
      "  time 2705 loss:122.87585  acc:1.000000\n",
      "  time 2710 loss:122.87895  acc:1.000000\n",
      "  time 2715 loss:122.87694  acc:1.000000\n",
      "  time 2720 loss:122.87585  acc:1.000000\n",
      "  time 2725 loss:122.87659  acc:1.000000\n"
     ]
    },
    {
     "name": "stdout",
     "output_type": "stream",
     "text": [
      "  time 2730 loss:122.87571  acc:1.000000\n",
      "  time 2735 loss:122.87751  acc:1.000000\n",
      "  time 2740 loss:122.87488  acc:1.000000\n",
      "  time 2745 loss:122.87512  acc:1.000000\n",
      "  time 2750 loss:122.87535  acc:1.000000\n",
      "test  time:2750  loss:122.98062  acc:1.000000\n",
      "  time 2755 loss:122.87579  acc:1.000000\n",
      "  time 2760 loss:122.87355  acc:1.000000\n",
      "  time 2765 loss:122.87504  acc:1.000000\n",
      "  time 2770 loss:122.87308  acc:1.000000\n",
      "  time 2775 loss:122.87277  acc:1.000000\n",
      "  time 2780 loss:122.87328  acc:1.000000\n",
      "  time 2785 loss:122.87319  acc:1.000000\n",
      "  time 2790 loss:122.87112  acc:1.000000\n",
      "  time 2795 loss:122.87193  acc:1.000000\n",
      "  time 2800 loss:122.87209  acc:1.000000\n",
      "test  time:2800  loss:122.97083  acc:1.000000\n",
      "  time 2805 loss:122.87074  acc:1.000000\n",
      "  time 2810 loss:122.87131  acc:1.000000\n",
      "  time 2815 loss:122.87267  acc:1.000000\n",
      "  time 2820 loss:122.87174  acc:1.000000\n",
      "  time 2825 loss:122.86741  acc:1.000000\n",
      "  time 2830 loss:122.86900  acc:1.000000\n",
      "  time 2835 loss:122.86906  acc:1.000000\n",
      "  time 2840 loss:122.87003  acc:1.000000\n",
      "  time 2845 loss:122.86874  acc:1.000000\n",
      "  time 2850 loss:122.87186  acc:1.000000\n",
      "test  time:2850  loss:122.96544  acc:1.000000\n",
      "  time 2855 loss:122.87007  acc:1.000000\n",
      "  time 2860 loss:122.86587  acc:1.000000\n",
      "  time 2865 loss:122.87045  acc:1.000000\n",
      "  time 2870 loss:122.86814  acc:1.000000\n",
      "  time 2875 loss:122.86730  acc:1.000000\n",
      "  time 2880 loss:122.86974  acc:1.000000\n",
      "  time 2885 loss:122.86738  acc:1.000000\n",
      "  time 2890 loss:122.86494  acc:1.000000\n",
      "  time 2895 loss:122.86730  acc:1.000000\n",
      "  time 2900 loss:122.86701  acc:1.000000\n",
      "test  time:2900  loss:122.95854  acc:1.000000\n",
      "  time 2905 loss:122.86588  acc:1.000000\n",
      "  time 2910 loss:122.86691  acc:1.000000\n",
      "  time 2915 loss:122.86694  acc:1.000000\n",
      "  time 2920 loss:122.86693  acc:1.000000\n",
      "  time 2925 loss:122.86519  acc:1.000000\n",
      "  time 2930 loss:122.86611  acc:1.000000\n",
      "  time 2935 loss:122.86493  acc:1.000000\n",
      "  time 2940 loss:122.86525  acc:1.000000\n",
      "  time 2945 loss:122.86454  acc:1.000000\n",
      "  time 2950 loss:122.86653  acc:1.000000\n",
      "test  time:2950  loss:122.95222  acc:1.000000\n",
      "  time 2955 loss:122.86486  acc:1.000000\n",
      "  time 2960 loss:122.86465  acc:1.000000\n",
      "  time 2965 loss:122.86479  acc:1.000000\n",
      "  time 2970 loss:122.86496  acc:1.000000\n",
      "  time 2975 loss:122.86299  acc:1.000000\n",
      "  time 2980 loss:122.86390  acc:1.000000\n",
      "  time 2985 loss:122.86434  acc:1.000000\n",
      "  time 2990 loss:122.86433  acc:1.000000\n",
      "  time 2995 loss:122.86215  acc:1.000000\n"
     ]
    }
   ],
   "source": [
    "# 训练\n",
    "BATCH_SIZE=256\n",
    "batch_test = get_test_batch(1000)\n",
    "for i in range(3000):\n",
    "    # 生成一个Batch 的数据\n",
    "    batch = get_train_batch(BATCH_SIZE)\n",
    "    # 训练\n",
    "    sess.run(train, feed_dict={xs:batch[0], ys:batch[1],keep_prob:1.0})\n",
    "    \n",
    "    if i%5==0:\n",
    "        l = sess.run(loss, feed_dict={xs:batch[0], ys: batch[1],keep_prob:1.0})\n",
    "        ac = sess.run(acc,feed_dict={xs:batch[0], ys: batch[1],keep_prob:1.0})\n",
    "        res_train_loss.append(l)\n",
    "        res_train_acc.append(ac)\n",
    "        print(\"  time %d loss:%.5f  acc:%f\" %(i,l,ac))\n",
    "        \n",
    "    if i%50==0:\n",
    "        \n",
    "        l = sess.run(loss, feed_dict={xs:batch_test[0], ys: batch_test[1],keep_prob:1.0})\n",
    "        ac = sess.run(acc,feed_dict={xs:batch_test[0], ys: batch_test[1],keep_prob:1.0})\n",
    "        res_test_loss.append(l)\n",
    "        res_test_acc.append(ac)\n",
    "        print(\"test  time:%d  loss:%.5f  acc:%f\" %(i,l,ac))"
   ]
  },
  {
   "cell_type": "markdown",
   "metadata": {},
   "source": [
    "打印训练曲线"
   ]
  },
  {
   "cell_type": "code",
   "execution_count": 22,
   "metadata": {
    "scrolled": true
   },
   "outputs": [
    {
     "name": "stdout",
     "output_type": "stream",
     "text": [
      "60\n"
     ]
    },
    {
     "data": {
      "image/png": "[encoded data removed]",
      "text/plain": [
       "<Figure size 432x288 with 1 Axes>"
      ]
     },
     "metadata": {
      "needs_background": "light"
     },
     "output_type": "display_data"
    }
   ],
   "source": [
    "print(len(res_test_loss))\n",
    "plt.plot(res_test_loss)\n",
    "plt.title(\"Test-set loss\")\n",
    "plt.savefig(\"C:/Users/王欣哲/Desktop/codes/人工智能基础/问题1 棋盘识别/2.模型训练/test_loss_60.jpg\")\n",
    "plt.show()"
   ]
  },
  {
   "cell_type": "markdown",
   "metadata": {},
   "source": [
    "保存训练模型"
   ]
  },
  {
   "cell_type": "code",
   "execution_count": 17,
   "metadata": {},
   "outputs": [
    {
     "data": {
      "text/plain": [
       "'./net_2.0/conv_ver_1.ckpt'"
      ]
     },
     "execution_count": 17,
     "metadata": {},
     "output_type": "execute_result"
    }
   ],
   "source": [
    "saver = tf.train.Saver()#为下面保存做准备\n",
    "saver.save(sess, './net_2.0/conv_ver_1.ckpt')"
   ]
  },
  {
   "cell_type": "markdown",
   "metadata": {},
   "source": [
    "从数据集抽取数据，检测训练情况"
   ]
  },
  {
   "cell_type": "code",
   "execution_count": 43,
   "metadata": {},
   "outputs": [
    {
     "data": {
      "text/plain": [
       "1.0"
      ]
     },
     "execution_count": 43,
     "metadata": {},
     "output_type": "execute_result"
    }
   ],
   "source": [
    "batch = get_test_batch(250)\n",
    "sess.run(acc,feed_dict={xs:batch[0], ys: batch[1],keep_prob:1.0})"
   ]
  },
  {
   "cell_type": "code",
   "execution_count": 57,
   "metadata": {
    "scrolled": false
   },
   "outputs": [
    {
     "name": "stdout",
     "output_type": "stream",
     "text": [
      "122.83965\n",
      "1.0\n"
     ]
    },
    {
     "data": {
      "text/plain": [
       "<matplotlib.image.AxesImage at 0x1d58c9bea90>"
      ]
     },
     "execution_count": 57,
     "metadata": {},
     "output_type": "execute_result"
    },
    {
     "data": {
      "image/png": "[encoded data removed]",
      "text/plain": [
       "<Figure size 432x288 with 1 Axes>"
      ]
     },
     "metadata": {
      "needs_background": "light"
     },
     "output_type": "display_data"
    }
   ],
   "source": [
    "batch = get_train_batch(1)\n",
    "infer_y1 = sess.run(y1,feed_dict={xs:batch[0], ys: batch[1]})\n",
    "#infer_y2 = sess.run(y2,feed_dict={xs:batch[0], ys: batch[1]})\n",
    "infer_y = sess.run(y,feed_dict={xs:batch[0], ys: batch[1],keep_prob:1.0})\n",
    "print(sess.run(loss,feed_dict={xs:batch[0], ys: batch[1],keep_prob:1.0}))\n",
    "print(sess.run(acc,feed_dict={xs:batch[0], ys: batch[1],keep_prob:1.0}))\n",
    "plt.imshow(batch[0].reshape(96,96),cmap='Greys',interpolation='None')"
   ]
  },
  {
   "cell_type": "code",
   "execution_count": 58,
   "metadata": {},
   "outputs": [
    {
     "name": "stdout",
     "output_type": "stream",
     "text": [
      "0 2\n"
     ]
    },
    {
     "data": {
      "text/plain": [
       "array([2, 2, 2, 2, 2, 2, 2, 2, 2, 0, 2, 2, 2, 2, 2], dtype=int64)"
      ]
     },
     "execution_count": 58,
     "metadata": {},
     "output_type": "execute_result"
    },
    {
     "data": {
      "image/png": "[encoded data removed]",
      "text/plain": [
       "<Figure size 432x288 with 1 Axes>"
      ]
     },
     "metadata": {
      "needs_background": "light"
     },
     "output_type": "display_data"
    }
   ],
   "source": [
    "z = np.argmax(infer_y[0],1)\n",
    "print(np.min(z),np.max(z))\n",
    "plt.imshow(np.argmax(infer_y[0],1).reshape(15,15),cmap='Greys',interpolation='None')"
   ]
  },
  {
   "cell_type": "code",
   "execution_count": 60,
   "metadata": {},
   "outputs": [
    {
     "name": "stdout",
     "output_type": "stream",
     "text": [
      "(1, 48, 48, 8)\n"
     ]
    },
    {
     "data": {
      "text/plain": [
       "<matplotlib.image.AxesImage at 0x1d58c5b0f10>"
      ]
     },
     "execution_count": 60,
     "metadata": {},
     "output_type": "execute_result"
    },
    {
     "data": {
      "image/png": "[encoded data removed]",
      "text/plain": [
       "<Figure size 432x288 with 1 Axes>"
      ]
     },
     "metadata": {
      "needs_background": "light"
     },
     "output_type": "display_data"
    }
   ],
   "source": [
    "#内部卷积输出\n",
    "print(infer_y1.shape)\n",
    "plt.imshow(infer_y1[0,:,:,0],cmap='Greys',interpolation='None')"
   ]
  }
 ],
 "metadata": {
  "kernelspec": {
   "display_name": "Python 3",
   "language": "python",
   "name": "python3"
  },
  "language_info": {
   "codemirror_mode": {
    "name": "ipython",
    "version": 3
   },
   "file_extension": ".py",
   "mimetype": "text/x-python",
   "name": "python",
   "nbconvert_exporter": "python",
   "pygments_lexer": "ipython3",
   "version": "3.8.3"
  }
 },
 "nbformat": 4,
 "nbformat_minor": 4
}
