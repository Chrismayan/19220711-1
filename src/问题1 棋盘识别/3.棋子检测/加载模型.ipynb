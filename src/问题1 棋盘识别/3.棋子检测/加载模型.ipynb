{
 "cells": [
  {
   "cell_type": "markdown",
   "metadata": {},
   "source": [
    "# 加载模型 识别图像"
   ]
  },
  {
   "cell_type": "code",
   "execution_count": 1,
   "metadata": {},
   "outputs": [
    {
     "name": "stdout",
     "output_type": "stream",
     "text": [
      "WARNING:tensorflow:From D:\\anaconda3\\lib\\site-packages\\tensorflow\\python\\compat\\v2_compat.py:96: disable_resource_variables (from tensorflow.python.ops.variable_scope) is deprecated and will be removed in a future version.\n",
      "Instructions for updating:\n",
      "non-resource variables are not supported in the long term\n"
     ]
    }
   ],
   "source": [
    "import numpy as np\n",
    "import tensorflow.compat.v1 as tf\n",
    "tf.disable_v2_behavior()"
   ]
  },
  {
   "cell_type": "code",
   "execution_count": 2,
   "metadata": {},
   "outputs": [],
   "source": [
    "from PIL import Image\n",
    "import time\n",
    "import matplotlib.pyplot as plt\n",
    "%matplotlib inline"
   ]
  },
  {
   "cell_type": "markdown",
   "metadata": {},
   "source": [
    "输出函数"
   ]
  },
  {
   "cell_type": "code",
   "execution_count": 3,
   "metadata": {},
   "outputs": [],
   "source": [
    "def printChess(chess):\n",
    "    print(\"  \",end=\"\")\n",
    "    for i in range(15):\n",
    "        print(\"%3d\" %(i), end=\"\")\n",
    "    print(\"\")\n",
    "\n",
    "    for i in range(15):\n",
    "        print(\"%2d\" %(i), end=\"\")\n",
    "        for j in range(15):\n",
    "            if chess[i, j] == 0:\n",
    "                print(\"  *\", end=\"\")\n",
    "            elif chess[i, j] == 1:\n",
    "                print(\"  o\", end=\"\")\n",
    "            else:\n",
    "                print(\"  -\", end=\"\")\n",
    "        print(\"\")"
   ]
  },
  {
   "cell_type": "markdown",
   "metadata": {},
   "source": [
    "模型路径"
   ]
  },
  {
   "cell_type": "code",
   "execution_count": 4,
   "metadata": {},
   "outputs": [],
   "source": [
    "model_path = \"./net_2.0\""
   ]
  },
  {
   "cell_type": "markdown",
   "metadata": {},
   "source": [
    "定义执行器    加载图"
   ]
  },
  {
   "cell_type": "code",
   "execution_count": 5,
   "metadata": {},
   "outputs": [
    {
     "name": "stdout",
     "output_type": "stream",
     "text": [
      "INFO:tensorflow:Restoring parameters from ./net_2.0\\conv_ver_1.ckpt\n"
     ]
    }
   ],
   "source": [
    "place = \"CPU\"\n",
    "if place == \"GPU\":\n",
    "    print(\"GPU\")\n",
    "    gpu_options = tf.GPUOptions(allow_growth=True)\n",
    "    gpu_options =tf.GPUOptions(per_process_gpu_memory_fraction=0.8,allow_growth=True) ##每个gpu占用0.8\t\t\t\t\t\t\t\t\t\t\t\t\t\t\t\t\t\t\t\t的显存\n",
    "    config=tf.ConfigProto(gpu_options=gpu_options,allow_soft_placement=True,log_device_placement=False)\n",
    "    sess=tf.Session(config=config)##如果电脑有多个GPU，tensorflow默认全部使用。如果想只使用部分GPU，可以设置CUDA_VISIBLE_DEVICES。\n",
    "else:\n",
    "    sess = tf.Session()\n",
    "saver =tf.train.import_meta_graph(model_path + '/conv_ver_1.ckpt.meta')\n",
    "saver.restore(sess,tf.train.latest_checkpoint(model_path))"
   ]
  },
  {
   "cell_type": "code",
   "execution_count": 6,
   "metadata": {},
   "outputs": [],
   "source": [
    "graph = tf.get_default_graph()\n",
    "#tensor_name_list = [tensor.name for tensor in graph.as_graph_def().node]\n",
    "# print(tensor_name_list)"
   ]
  },
  {
   "cell_type": "code",
   "execution_count": 7,
   "metadata": {},
   "outputs": [],
   "source": [
    "#输入占位符\n",
    "xs = graph.get_tensor_by_name('xs:0')\n",
    "ys = graph.get_tensor_by_name('ys:0')\n",
    "keep_prob = graph.get_tensor_by_name('keep_prob:0')\n",
    "#预测结果\n",
    "y = graph.get_tensor_by_name('y:0')"
   ]
  },
  {
   "cell_type": "code",
   "execution_count": 29,
   "metadata": {},
   "outputs": [
    {
     "name": "stdout",
     "output_type": "stream",
     "text": [
      "time =  0.00498652458190918\n",
      "FPS =  200.5404733444896\n"
     ]
    },
    {
     "data": {
      "text/plain": [
       "<matplotlib.image.AxesImage at 0x1e9f6ef41f0>"
      ]
     },
     "execution_count": 29,
     "metadata": {},
     "output_type": "execute_result"
    },
    {
     "data": {
      "image/png": "[encoded data removed]",
      "text/plain": [
       "<Figure size 432x288 with 1 Axes>"
      ]
     },
     "metadata": {
      "needs_background": "light"
     },
     "output_type": "display_data"
    }
   ],
   "source": [
    "#加载图片，图像预处理为灰度图片\n",
    "img = Image.open(\"./img/5.png\").convert('L').resize((96, 96), Image.ANTIALIAS)\n",
    "# 处理为np矩阵\n",
    "img = np.asfarray((np.array(img)/255.0*0.99+0.01).reshape(1,96*96))\n",
    "\n",
    "time_start = time.time()\n",
    "infer_y = sess.run(y,feed_dict={xs:img,keep_prob:1.0})\n",
    "time_end = time.time()\n",
    "\n",
    "print(\"time = \",time_end-time_start)\n",
    "print(\"FPS = \",1.0/(time_end-time_start))\n",
    "plt.imshow(img.reshape(96,96),cmap='Greys',interpolation='None')"
   ]
  },
  {
   "cell_type": "code",
   "execution_count": 30,
   "metadata": {},
   "outputs": [
    {
     "name": "stdout",
     "output_type": "stream",
     "text": [
      "    0  1  2  3  4  5  6  7  8  9 10 11 12 13 14\n",
      " 0  *  -  -  -  -  -  -  -  -  -  o  o  -  -  -\n",
      " 1  -  -  -  -  o  o  o  o  o  o  o  o  o  o  -\n",
      " 2  -  -  -  -  o  o  -  -  o  o  o  o  o  -  -\n",
      " 3  -  -  -  -  -  o  o  -  -  o  o  o  o  -  -\n",
      " 4  -  -  -  o  o  o  -  *  -  *  o  o  o  -  -\n",
      " 5  -  -  -  -  *  o  *  *  *  *  o  -  -  -  -\n",
      " 6  -  -  -  -  -  *  o  o  o  *  -  -  -  -  -\n",
      " 7  -  -  -  -  -  o  *  *  o  o  -  -  -  -  -\n",
      " 8  -  -  -  -  -  -  o  *  *  -  o  o  -  -  -\n",
      " 9  -  -  -  o  -  o  o  o  o  -  -  o  -  -  -\n",
      "10  -  -  -  -  -  -  -  -  o  -  -  -  *  -  -\n",
      "11  -  -  -  -  -  -  o  -  -  o  -  -  -  -  -\n",
      "12  -  -  -  -  -  -  -  -  -  -  -  -  -  -  *\n",
      "13  -  -  -  -  -  -  -  -  -  -  -  -  -  -  *\n",
      "14  *  *  *  -  -  -  -  -  -  -  -  *  -  *  *\n"
     ]
    },
    {
     "data": {
      "image/png": "[encoded data removed]",
      "text/plain": [
       "<Figure size 432x288 with 1 Axes>"
      ]
     },
     "metadata": {
      "needs_background": "light"
     },
     "output_type": "display_data"
    }
   ],
   "source": [
    "plt.imshow(np.argmax(infer_y[0],1).reshape(15,15),cmap='Greys',interpolation='None')\n",
    "#输出棋盘\n",
    "printChess(np.argmax(infer_y[0],1).reshape(15,15))"
   ]
  },
  {
   "cell_type": "code",
   "execution_count": null,
   "metadata": {},
   "outputs": [],
   "source": []
  }
 ],
 "metadata": {
  "kernelspec": {
   "display_name": "Python 3",
   "language": "python",
   "name": "python3"
  },
  "language_info": {
   "codemirror_mode": {
    "name": "ipython",
    "version": 3
   },
   "file_extension": ".py",
   "mimetype": "text/x-python",
   "name": "python",
   "nbconvert_exporter": "python",
   "pygments_lexer": "ipython3",
   "version": "3.8.3"
  }
 },
 "nbformat": 4,
 "nbformat_minor": 4
}
